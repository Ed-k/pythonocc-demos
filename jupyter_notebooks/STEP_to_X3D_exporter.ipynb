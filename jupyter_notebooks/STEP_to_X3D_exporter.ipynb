{
 "cells": [
  {
   "cell_type": "markdown",
   "metadata": {},
   "source": [
    "# STEP to X3D exporter\n",
    "A jupyter notebook to export any STEP file (AP203, AP214, AP242) to X3D. The exporter is based upon pythonocc for topology and geometry processing and the x3d.py package. It is currently under development, authors Thomas Paviot (tpaviot@gmail.com) and Andreas Plesch (gh @andreasplesch). The code is distributed under the terms of the LGPL V3 public license."
   ]
  },
  {
   "cell_type": "markdown",
   "metadata": {},
   "source": [
    "Step 1. Import all necessary packages and modules"
   ]
  },
  {
   "cell_type": "code",
   "execution_count": null,
   "metadata": {},
   "outputs": [],
   "source": [
    "# standard imports\n",
    "import os\n",
    "import tempfile\n",
    "\n",
    "# pythonocc imports\n",
    "from OCC.Extend.DataExchange.XDE import SceneGraphFromDoc, DocFromSTEP\n",
    "from OCC.Extend.DataExchange.X3D import X3DShapeExporter, X3DFromSceneGraph\n",
    "\n",
    "# ipython and ipywidgets imports\n",
    "from ipywidgets import FileUpload\n",
    "from IPython.display import HTML, display, FileLink"
   ]
  },
  {
   "cell_type": "markdown",
   "metadata": {},
   "source": [
    "Step 2. Pick a STEP file from your computer. Allowed extensions are .stp, .step, .STP, .STEP. Max size is restricted to 10Mb. The \"Pick a STEP file\" button will turn into light green when upload is completed. Untill it remains yellow, the upload is not achieved or it failed."
   ]
  },
  {
   "cell_type": "code",
   "execution_count": null,
   "metadata": {},
   "outputs": [],
   "source": [
    "tmp_dir = tempfile.mkdtemp()  # files are stored to a temporary directory\n",
    "base_filename = None\n",
    "full_filename = None\n",
    "\n",
    "def _handle_upload(change):\n",
    "    global base_filename, full_filename\n",
    "    w = change['owner']\n",
    "    base_filename = next(iter(file_uploader.value))\n",
    "    full_filename = os.path.join(tmp_dir, base_filename)\n",
    "    content = file_uploader.value[base_filename]['content']\n",
    "    with open(full_filename, 'wb') as f:\n",
    "        f.write(content)\n",
    "    print('Uploaded `{}` ({:.2f} kB)'.format(full_filename, len(content) / 2**10))\n",
    "    file_uploader.style.button_color = \"lightgreen\"\n",
    "    \n",
    "file_uploader = FileUpload(description=\"Pick a STEP file on your machine\",\n",
    "                accept='.stp, .step, .STEP, .STP', multiple=False)\n",
    "file_uploader.style.button_color = \"yellow\"\n",
    "file_uploader.observe(_handle_upload, names='data')\n",
    "file_uploader"
   ]
  },
  {
   "cell_type": "markdown",
   "metadata": {},
   "source": [
    "Step 3. Process the STEP file, generates a scenegraph and an x3dom HTML export"
   ]
  },
  {
   "cell_type": "code",
   "execution_count": null,
   "metadata": {},
   "outputs": [],
   "source": [
    "document = DocFromSTEP(full_filename).get_doc()\n",
    "scenegraph = SceneGraphFromDoc(document)\n",
    "x3dXML = X3DFromSceneGraph(scenegraph.get_scene(), scenegraph.get_internalFaceEntries())\n",
    "x3dom_html = x3dXML.to_x3dom_html()"
   ]
  },
  {
   "cell_type": "markdown",
   "metadata": {},
   "source": [
    "Render the x3dom hml in the jupyter notebook"
   ]
  },
  {
   "cell_type": "code",
   "execution_count": null,
   "metadata": {},
   "outputs": [],
   "source": [
    "HTML(x3dom_html)"
   ]
  },
  {
   "cell_type": "markdown",
   "metadata": {},
   "source": [
    "Enable downloading the X3D output as a .x3d file"
   ]
  },
  {
   "cell_type": "code",
   "execution_count": null,
   "metadata": {},
   "outputs": [],
   "source": [
    "# write the X3D file to the disk\n",
    "pre, ext = os.path.splitext(base_filename)\n",
    "x3dfilename = pre + \".x3d\"\n",
    "\n",
    "with open(x3dfilename, 'w') as f:\n",
    "    f.write(x3dXML.to_xml())\n",
    "\n",
    "local_file = FileLink(x3dfilename, result_html_prefix=\"Click here to download: \")\n",
    "display(local_file)"
   ]
  }
 ],
 "metadata": {
  "kernelspec": {
   "display_name": "Python 3",
   "language": "python",
   "name": "python3"
  },
  "language_info": {
   "codemirror_mode": {
    "name": "ipython",
    "version": 3
   },
   "file_extension": ".py",
   "mimetype": "text/x-python",
   "name": "python",
   "nbconvert_exporter": "python",
   "pygments_lexer": "ipython3",
   "version": "3.6.4"
  }
 },
 "nbformat": 4,
 "nbformat_minor": 2
}
