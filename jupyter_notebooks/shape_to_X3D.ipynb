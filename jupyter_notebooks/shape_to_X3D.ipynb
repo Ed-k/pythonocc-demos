{
 "cells": [
  {
   "cell_type": "markdown",
   "metadata": {},
   "source": [
    "# Shape to X3D exporter"
   ]
  },
  {
   "cell_type": "code",
   "execution_count": null,
   "metadata": {},
   "outputs": [],
   "source": [
    "# standard imports\n",
    "import os\n",
    "import tempfile\n",
    "\n",
    "# pythonocc imports\n",
    "from OCC.Extend.DataExchange.X3D import X3DSceneExporter\n",
    "from OCC.Display.WebGl.jupyter_renderer import create_download_link\n",
    "from OCC.Core.BRepPrimAPI import BRepPrimAPI_MakeTorus, BRepPrimAPI_MakeBox\n",
    "from OCC.Core.gp import gp_Vec\n",
    "from OCC.Extend.ShapeFactory import translate_shp\n",
    "# ipython and ipywidgets imports\n",
    "from ipywidgets import FileUpload\n",
    "from IPython.display import HTML, display"
   ]
  },
  {
   "cell_type": "code",
   "execution_count": null,
   "metadata": {},
   "outputs": [],
   "source": [
    "# shapes to export\n",
    "torus_shp = BRepPrimAPI_MakeTorus(30, 10).Shape()\n",
    "box_shp = BRepPrimAPI_MakeBox(10, 20, 30).Shape()\n",
    "translated_box = translate_shp(box_shp, gp_Vec(50, 50, 50), copy=True)"
   ]
  },
  {
   "cell_type": "code",
   "execution_count": null,
   "metadata": {},
   "outputs": [],
   "source": [
    "x3d_scene = X3DSceneExporter()\n",
    "x3d_scene.add_shape(torus_shp, shape_color=(1,0,0), color_DEF_name='myRED', emissive=True)\n",
    "x3d_scene.add_shape(translated_box, color_DEF_name='myRED')"
   ]
  },
  {
   "cell_type": "code",
   "execution_count": null,
   "metadata": {},
   "outputs": [],
   "source": [
    "HTML(x3d_scene.to_x3domHTML())"
   ]
  },
  {
   "cell_type": "code",
   "execution_count": null,
   "metadata": {},
   "outputs": [],
   "source": [
    "create_download_link(a_str=x3d_scene.to_xml(), filename=\"torus-box.x3d\")"
   ]
  }
 ],
 "metadata": {
  "kernelspec": {
   "display_name": "Python 3",
   "language": "python",
   "name": "python3"
  },
  "language_info": {
   "codemirror_mode": {
    "name": "ipython",
    "version": 3
   },
   "file_extension": ".py",
   "mimetype": "text/x-python",
   "name": "python",
   "nbconvert_exporter": "python",
   "pygments_lexer": "ipython3",
   "version": "3.6.4"
  }
 },
 "nbformat": 4,
 "nbformat_minor": 2
}
