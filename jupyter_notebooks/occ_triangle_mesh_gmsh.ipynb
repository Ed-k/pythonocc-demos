{
 "cells": [
  {
   "cell_type": "code",
   "execution_count": 1,
   "metadata": {
    "scrolled": true
   },
   "outputs": [],
   "source": [
    "# standard import \n",
    "import os\n",
    "import sys\n",
    "import tempfile\n",
    "\n",
    "# OCC imports\n",
    "from OCC.Display.WebGl.jupyter_renderer import JupyterRenderer\n",
    "from OCC.Core.BRepTools import breptools_Write\n",
    "from OCC.Core.gp import gp_Vec\n",
    "from OCC.Extend.ShapeFactory import translate_shp\n",
    "from OCC.Extend.DataExchange import read_step_file, read_stl_file"
   ]
  },
  {
   "cell_type": "code",
   "execution_count": 2,
   "metadata": {},
   "outputs": [],
   "source": [
    "# gmsh binary location\n",
    "GMSH_BINARY = '/usr/local/gmsh/bin/gmsh'\n",
    "assert os.path.isfile(GMSH_BINARY)\n",
    "# create a temporary directory to store gmsh files\n",
    "tmp  =  tempfile.TemporaryDirectory()\n",
    "TMP_DIR = tmp.name\n",
    "print(\"Files will be saved to \", TMP_DIR)"
   ]
  },
  {
   "cell_type": "code",
   "execution_count": 3,
   "metadata": {},
   "outputs": [],
   "source": [
    "ventilator_shp = read_step_file(os.path.join('..', 'assets', 'models', 'Ventilator.stp'))"
   ]
  },
  {
   "cell_type": "code",
   "execution_count": 4,
   "metadata": {},
   "outputs": [],
   "source": [
    "# dump the geometry to a brep file, check it worked\n",
    "BREP_FILE_NAME = os.path.join(TMP_DIR, \"ventilator.brep\")\n",
    "breptools_Write(ventilator_shp, BREP_FILE_NAME)\n",
    "assert os.path.isfile(BREP_FILE_NAME)\n",
    "\n",
    "# create the gmesh file\n",
    "gmsh_file_content = \"\"\"SetFactory(\"OpenCASCADE\");\n",
    "\n",
    "Mesh.CharacteristicLengthMin = 1;\n",
    "Mesh.CharacteristicLengthMax = 5;\n",
    "\n",
    "a() = ShapeFromFile(%s);\n",
    "\"\"\" % BREP_FILE_NAME\n",
    "GEO_FILENAME = os.path.join(TMP_DIR, \"ventilator.geo\")\n",
    "gmsh_file = open(GEO_FILENAME, \"w\")\n",
    "gmsh_file.write(gmsh_file_content)\n",
    "gmsh_file.close()\n",
    "assert os.path.isfile(GEO_FILENAME)\n",
    "\n",
    "# call gmsh, generate an STL file\n",
    "STL_FILENAME = os.path.join(TMP_DIR, \"ventilator.stl\")\n",
    "os.system(\"%s %s -2 -o %s -format stl\" % (GMSH_BINARY, GEO_FILENAME, STL_FILENAME))\n",
    "assert os.path.isfile(STL_FILENAME)\n",
    "\n",
    "import glob\n",
    "print(glob.glob(os.path.join(TMP_DIR, '*')))\n",
    "\n",
    "# load the stl file\n",
    "meshed_ventilator_shp = read_stl_file(STL_FILENAME)"
   ]
  },
  {
   "cell_type": "code",
   "execution_count": 5,
   "metadata": {},
   "outputs": [],
   "source": [
    "my_renderer = JupyterRenderer(size=(900, 900))"
   ]
  },
  {
   "cell_type": "code",
   "execution_count": 6,
   "metadata": {
    "scrolled": true
   },
   "outputs": [],
   "source": [
    "my_renderer.DisplayShape(translate_shp(ventilator_shp, gp_Vec(-100,0,0)), render_edges=True, shape_color=\"cyan\")\n",
    "my_renderer.DisplayShape(meshed_ventilator_shp, render_edges=True, shape_color=\"cyan\")"
   ]
  },
  {
   "cell_type": "code",
   "execution_count": 7,
   "metadata": {
    "scrolled": true
   },
   "outputs": [
    {
     "data": {
      "application/vnd.jupyter.widget-view+json": {
       "model_id": "c068c0bd9ad74d3c8fc8d4b8e130a6f7",
       "version_major": 2,
       "version_minor": 0
      },
      "text/plain": [
       "HBox(children=(Renderer(background='white', camera=CombinedCamera(far=1992.8065848923293, height=900.0, mode='…"
      ]
     },
     "metadata": {},
     "output_type": "display_data"
    },
    {
     "data": {
      "text/plain": []
     },
     "execution_count": 7,
     "metadata": {},
     "output_type": "execute_result"
    }
   ],
   "source": [
    "my_renderer"
   ]
  }
 ],
 "metadata": {
  "kernelspec": {
   "display_name": "Python 3",
   "language": "python",
   "name": "python3"
  },
  "language_info": {
   "codemirror_mode": {
    "name": "ipython",
    "version": 3
   },
   "file_extension": ".py",
   "mimetype": "text/x-python",
   "name": "python",
   "nbconvert_exporter": "python",
   "pygments_lexer": "ipython3",
   "version": "3.7.3"
  }
 },
 "nbformat": 4,
 "nbformat_minor": 2
}
