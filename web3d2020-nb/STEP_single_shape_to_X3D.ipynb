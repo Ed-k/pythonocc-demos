{
 "cells": [
  {
   "cell_type": "markdown",
   "metadata": {},
   "source": [
    "# STEP single shape to X3D exporter, mesh decimation"
   ]
  },
  {
   "cell_type": "code",
   "execution_count": null,
   "metadata": {},
   "outputs": [],
   "source": [
    "# standard imports\n",
    "import os\n",
    "import tempfile\n",
    "\n",
    "# pythonocc imports\n",
    "from OCC.Extend.DataExchange.X3D import X3DSceneExporter\n",
    "from OCC.Display.WebGl.jupyter_renderer import create_download_link\n",
    "from OCC.Extend.DataExchange.STEP import read_step_file\n",
    "from OCC.Extend.TopologyUtils import TopologyExplorer\n",
    "from IPython.display import HTML, display"
   ]
  },
  {
   "cell_type": "code",
   "execution_count": null,
   "metadata": {},
   "outputs": [],
   "source": [
    "shp = read_step_file('./M8X30MM_ALLEN_KEY_SCREW.STEP')\n",
    "# compute the number of faces\n",
    "nbr_faces = TopologyExplorer(shp)\n",
    "print(\"Total number of faces:\", nbr_faces.number_of_faces())"
   ]
  },
  {
   "cell_type": "code",
   "execution_count": null,
   "metadata": {},
   "outputs": [],
   "source": [
    "decimation_ratio = 0.1  # modify this value"
   ]
  },
  {
   "cell_type": "code",
   "execution_count": null,
   "metadata": {},
   "outputs": [],
   "source": [
    "x3d_scene = X3DSceneExporter()\n",
    "x3d_scene.add_shape(shp,\n",
    "                    shape_color=(0.1,0.1,0.1),\n",
    "                    color_DEF_name='myGRAY',\n",
    "                    emissive=True,\n",
    "                    decimation_ratio=decimation_ratio,\n",
    "                    export_edges=True)"
   ]
  },
  {
   "cell_type": "code",
   "execution_count": null,
   "metadata": {
    "scrolled": true
   },
   "outputs": [],
   "source": [
    "HTML(x3d_scene.to_x3dom_html())"
   ]
  },
  {
   "cell_type": "code",
   "execution_count": null,
   "metadata": {},
   "outputs": [],
   "source": [
    "create_download_link(a_str=x3d_scene.to_xml(), filename=\"screw_%i_percent_decimation.x3d\" % int(100 * decimation_ratio))"
   ]
  }
 ],
 "metadata": {
  "kernelspec": {
   "display_name": "Python 3",
   "language": "python",
   "name": "python3"
  },
  "language_info": {
   "codemirror_mode": {
    "name": "ipython",
    "version": 3
   },
   "file_extension": ".py",
   "mimetype": "text/x-python",
   "name": "python",
   "nbconvert_exporter": "python",
   "pygments_lexer": "ipython3",
   "version": "3.6.4"
  }
 },
 "nbformat": 4,
 "nbformat_minor": 2
}
